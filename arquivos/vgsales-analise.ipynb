{
 "cells": [
  {
   "cell_type": "markdown",
   "metadata": {},
   "source": [
    "# Bibliotecas"
   ]
  },
  {
   "cell_type": "code",
   "execution_count": null,
   "metadata": {},
   "outputs": [],
   "source": [
    "# Bibliotecas base\n",
    "import pandas as pd"
   ]
  },
  {
   "cell_type": "code",
   "execution_count": null,
   "metadata": {},
   "outputs": [],
   "source": [
    "# Plotagem e exibição de gráficos\n",
    "from matplotlib import pyplot as plt\n",
    "\n",
    "# Plotagem com Plotly Express\n",
    "import plotly.express as px\n",
    "import seaborn as sns"
   ]
  },
  {
   "cell_type": "markdown",
   "metadata": {},
   "source": [
    "# Sobre o arquivo"
   ]
  },
  {
   "cell_type": "markdown",
   "metadata": {},
   "source": [
    "## Processo de Obtenção\n",
    "O arquivo `vgsales.csv` utilizado durante a execução deste projeto, pode ser obtido através do [Kaggle](https://www.kaggle.com/datasets/gregorut/videogamesales), disponibilizado de forma gratuita na plataforma pelo usuário [GregorySmith](https://www.kaggle.com/gregorut)."
   ]
  },
  {
   "cell_type": "markdown",
   "metadata": {},
   "source": [
    "## Atualização e Disponibilização da Base de Dados\n",
    "De acordo com as informações disponibilizadas no site do onde obtive o arquivo `vgsales.csv`, a base de dados foi gerada através do processo de *scrape* no site [VGChartz](https://www.vgchartz.com/).\n",
    "Desta forma, com o objetivo de adicionar informações na base de dados e permitir um estudo sobre essa temática, realizei um processo de *scraping* no mesmo site. Para tal, utilizei como base o script disponibilizado pelo usuário [GregorUT](https://github.com/GregorUT/vgchartzScrape), com anotações e atualizações para atender a atual demanda."
   ]
  },
  {
   "cell_type": "markdown",
   "metadata": {},
   "source": [
    "## Uso da Base de Dados\n",
    "Será mantida a licença GPL-3.0 de acordo com a o usuário [GregorUT](https://github.com/GregorUT/vgchartzScrape) e, como as informações disponibilizadas no site [VGChartz](https://www.vgchartz.com/) estão em domínio público, não há razões para modificar o termo de licença."
   ]
  },
  {
   "cell_type": "markdown",
   "metadata": {},
   "source": [
    "## Sobre a base de Dados\n",
    "A base de dados é composta pelas seguintes informações:\n",
    "\n",
    "1. `Rank`: Valor numérico incremental. Não há relevância para análise.\n",
    "0. `Name`: Nome do Jogo.\n",
    "0. `Platform`: Plataforma em que o Jogo foi lançado.\n",
    "0. `Day`: Dia em que o Jogo foi lançado.\n",
    "0. `Month`: Mês em que o Jogo foi lançado.\n",
    "0. `Year`: Ano em que o Jogo foi lançado.\n",
    "0. `Genre`: Gênero do Jogo.\n",
    "0. `Publisher`: Distribuidores do Jogo.\n",
    "0. `Developer`: Desenvolvedores do Jogo\n",
    "0. `Critic_Score`: Nota de Avaliação crítica do Jogo.\n",
    "0. `User_Score`: Nota de Avaliação dos usuários referente ao Jogo.\n",
    "0. `NA_Sales`: Território de Publicação de Jogos Eletrônicos (NA).\n",
    "0. `EU_Sales`: Território de Publicação de Jogos Eletrônicos (EU).\n",
    "0. `JP_Sales`: Território de Publicação de Jogos Eletrônicos (JP).\n",
    "0. `PAL_Sales`: Território de Publicação de Jogos Eletrônicos (PAL).\n",
    "0. `Other_Sales`: Agrupamento de outros territórios de Publicação de Jogos Eletrônicos.\n",
    "0. `Global_Sales`: Total de vendas registradas.\n",
    "\n",
    "Durante a execução deste processo, os dados serão analisados, tratados e, posteriormente exportados para exibir as informações através de Dashboards via Streamlit."
   ]
  },
  {
   "cell_type": "markdown",
   "metadata": {},
   "source": [
    "## Leitura do Arquivo\n",
    "O arquivo está em `UTF-8`e possui como `index` a coluna 0 (zero)."
   ]
  },
  {
   "cell_type": "markdown",
   "metadata": {},
   "source": [
    "### Informações Iniciais"
   ]
  },
  {
   "cell_type": "code",
   "execution_count": null,
   "metadata": {},
   "outputs": [],
   "source": [
    "# Leitura do arquivo 'vgsales.csv'\n",
    "df = pd.read_csv('vgsales.csv', encoding='utf-8', index_col=0)"
   ]
  },
  {
   "cell_type": "code",
   "execution_count": null,
   "metadata": {},
   "outputs": [],
   "source": [
    "# Exibe as 5 (cinco) primeiras linhas do DataFrame\n",
    "df.head()"
   ]
  },
  {
   "cell_type": "code",
   "execution_count": null,
   "metadata": {},
   "outputs": [],
   "source": [
    "# Exibe as 5 (cinco) ultimas linhas do DataFrame\n",
    "df.tail()"
   ]
  },
  {
   "cell_type": "code",
   "execution_count": null,
   "metadata": {},
   "outputs": [],
   "source": [
    "# Exibe a quantidade de linhas (rows = dados) e colunas (cols = atributos) da base de dados\n",
    "df.shape"
   ]
  },
  {
   "cell_type": "code",
   "execution_count": null,
   "metadata": {},
   "outputs": [],
   "source": [
    "# Exibe o nome das colunas (atributos) da base de dados\n",
    "df.keys()"
   ]
  },
  {
   "cell_type": "code",
   "execution_count": null,
   "metadata": {},
   "outputs": [],
   "source": [
    "# Por questões de estética, será realizada a tradução no nome das colunas (atributos)\n",
    "df.rename(columns={'Name': 'Nome',\n",
    "                   'Platform': 'Plataforma',\n",
    "                   #'Day': 'Dia',\n",
    "                   #'Month': 'Mês',\n",
    "                   'Year': 'Ano',\n",
    "                   'Genre': 'Gênero',\n",
    "                   'Publisher': 'Publicação',\n",
    "                   #'Developer': 'Desenvolvedor',\n",
    "                   #'Critic_Score': 'Avaliação Crítica',\n",
    "                   #'User_Score': 'Avaliação dos Usuários',\n",
    "                   'NA_Sales': 'Vendas NA',\n",
    "                   'EU_Sales': 'Vendas EU',\n",
    "                   #'PAL_Sales': 'Vendas PAL',\n",
    "                   'JP_Sales': 'Vendas JP',\n",
    "                   'Other_Sales': 'Vendas OUT',\n",
    "                   'Global_Sales': 'Total de Vendas'}, inplace=True)"
   ]
  },
  {
   "cell_type": "code",
   "execution_count": null,
   "metadata": {},
   "outputs": [],
   "source": [
    "# Exibe o nome das colunas (atributos) da base de dados após mudança dos nomes\n",
    "df.keys()"
   ]
  },
  {
   "cell_type": "markdown",
   "metadata": {},
   "source": [
    "### Dados Nulos\n",
    "Processo de verificação de Dados Nulos na Base de dados."
   ]
  },
  {
   "cell_type": "code",
   "execution_count": null,
   "metadata": {},
   "outputs": [],
   "source": [
    "# Exibe a soma dos dados nulos encontrados por coluna\n",
    "df.isnull().sum()"
   ]
  },
  {
   "cell_type": "markdown",
   "metadata": {},
   "source": [
    "<div class=\"alert alert-block alert-info\"> <b>INFORMAÇÃO:</b> Foi identificado a presença de dados nulos na base de dados. Estes dados devem ser verificados e analisados. Existem <b>271</b> registros sem informação no campo <b>Ano</b> e <b>58</b> registros sem informação no campo <b>Publicação</b>.</div>"
   ]
  },
  {
   "cell_type": "markdown",
   "metadata": {},
   "source": [
    "#### Análise de Campos Nulos"
   ]
  },
  {
   "cell_type": "code",
   "execution_count": null,
   "metadata": {},
   "outputs": [],
   "source": [
    "# Gráfico de distribuição dos valores Nulos\n",
    "plt.figure(figsize=(15,6))\n",
    "plt.title('Análise de Campos Nulos')\n",
    "sns.heatmap(df.isnull(), cbar=False);"
   ]
  },
  {
   "cell_type": "code",
   "execution_count": null,
   "metadata": {},
   "outputs": [],
   "source": [
    "# Exibe as linhas que possuem, ao menos, um valor nulo\n",
    "df[df.isna().any(axis=1)]"
   ]
  },
  {
   "cell_type": "code",
   "execution_count": null,
   "metadata": {},
   "outputs": [],
   "source": [
    "# Quantidade de Linhas com, ao menos, um valor nulo\n",
    "df[df.isna().any(axis=1)].shape"
   ]
  },
  {
   "cell_type": "markdown",
   "metadata": {},
   "source": [
    "<div class=\"alert alert-block alert-warning\"> <b>CUIDADO:</b> Identificou-se a presença total de <b>307</b> registros contendo, ao menos, um atributo <b>nulo</b>. Este valor representa aproximadamente <b>1,85%</b> dos registros da base de dados.</div>"
   ]
  },
  {
   "cell_type": "markdown",
   "metadata": {},
   "source": [
    "<div class=\"alert alert-block alert-danger\"> <b>ATENÇÃO:</b> Optou-se, por questões de estudo, na <b>exclusão</b> dos dados que possuem ao menos um atributo <b>nulo</b>.</div>"
   ]
  },
  {
   "cell_type": "code",
   "execution_count": null,
   "metadata": {},
   "outputs": [],
   "source": [
    "# Apaga as linhas que possuem, ao menos, um valor nulo\n",
    "df.dropna(inplace=True)"
   ]
  },
  {
   "cell_type": "code",
   "execution_count": null,
   "metadata": {},
   "outputs": [],
   "source": [
    "# Exibe a quantidade de linhas (rows = dados) e colunas (cols = atributos) da base de dados após a exclusão dos dados nulos\n",
    "df.shape"
   ]
  },
  {
   "cell_type": "code",
   "execution_count": null,
   "metadata": {},
   "outputs": [],
   "source": [
    "# Exibe a soma dos dados nulos encontrados por coluna\n",
    "df.isnull().sum()"
   ]
  },
  {
   "cell_type": "code",
   "execution_count": null,
   "metadata": {},
   "outputs": [],
   "source": [
    "# Quantidade de Linhas com, ao menos, um valor nulo. Observe que não há mais registros com valor nulo na base de dados\n",
    "df[df.isna().any(axis=1)].shape"
   ]
  },
  {
   "cell_type": "markdown",
   "metadata": {},
   "source": [
    "### Tratamento de Atributos\n",
    "É importante verificar os tipos de atributos que a Base de Dados possui para melhor exibi-las e analisa-las."
   ]
  },
  {
   "cell_type": "code",
   "execution_count": null,
   "metadata": {},
   "outputs": [],
   "source": [
    "# Exibe os tipos de dados por colunas\n",
    "df.info()"
   ]
  },
  {
   "cell_type": "markdown",
   "metadata": {},
   "source": [
    "<div class=\"alert alert-block alert-info\"> <b>NOTE:</b> Observe que o campo <b>Ano</b> está no formato <b>Float64</b> e deveriam estar em <b>Int64</b>. Por essa razão, estes campos serão formatados. Os demais campos apresentam formato condizente com a necessidade. Isso será tratado ao lidar com o atributo <b>Ano</b>.</div>\n"
   ]
  },
  {
   "cell_type": "markdown",
   "metadata": {},
   "source": [
    "#### Atributo `Rank` (Index)\n",
    "Após a exclusão dos registros com ao menos um atributo nulo, e levando em conta que a quantidade de indices encontrava-se diferente da quantidade de registros apresentados, será necessária a indexação da base de dados.\n",
    "\n",
    "**Operações**\n",
    "* Reordenar o indice\n",
    "\n",
    "**Análises**\n",
    "* Não há análises que possam ser realizadas para este campo"
   ]
  },
  {
   "cell_type": "code",
   "execution_count": null,
   "metadata": {},
   "outputs": [],
   "source": [
    "# Reseta a sequência numérica dos Indices do banco de dados\n",
    "df.reset_index(drop=True, inplace=True)\n",
    "display(df)"
   ]
  },
  {
   "cell_type": "markdown",
   "metadata": {},
   "source": [
    "#### Atributo `Ano`\n",
    "Conforme mensionado anteriormente, será necessário a alteração do formato *float64* para *Int64*. Aproveitaremos a oportunidade para realizar algumas análises de distribuição de dados.\n",
    "\n",
    "**Operações**\n",
    "* Alteração no formato do campo;\n",
    "\n",
    "**Análises**\n",
    "* Distribuição dos dados ao longo dos anos;"
   ]
  },
  {
   "cell_type": "markdown",
   "metadata": {},
   "source": [
    "##### Operações no atributo `Year`"
   ]
  },
  {
   "cell_type": "code",
   "execution_count": null,
   "metadata": {},
   "outputs": [],
   "source": [
    "# Converte os dados 'Ano' para Inteiro (Int64)\n",
    "df['Ano'] = df['Ano'].convert_dtypes()\n",
    "df.info()"
   ]
  },
  {
   "cell_type": "code",
   "execution_count": null,
   "metadata": {},
   "outputs": [],
   "source": [
    "df.head()"
   ]
  },
  {
   "cell_type": "markdown",
   "metadata": {},
   "source": [
    "##### Análises do campo `Ano`"
   ]
  },
  {
   "cell_type": "code",
   "execution_count": null,
   "metadata": {},
   "outputs": [],
   "source": [
    "# Intervalo de valores únicos na coluna 'Ano' organizado de forma crescente (ascending=True)\n",
    "df['Ano'].drop_duplicates().sort_values(ascending=True).values\n",
    "#df.groupby(['Ano'])['Ano'].count().index  # Outra forma de fazer a mesma ação anterior"
   ]
  },
  {
   "cell_type": "code",
   "execution_count": null,
   "metadata": {},
   "outputs": [],
   "source": [
    "# Quantidade de jogos publicados por ano organizado de forma crescente de acordo com o ano de lançamento\n",
    "df['Ano'].value_counts().sort_index().values\n",
    "#df.groupby(['Ano'])['Ano'].count()  # Outra forma de fazer a mesma ação anterior"
   ]
  },
  {
   "cell_type": "code",
   "execution_count": null,
   "metadata": {},
   "outputs": [],
   "source": [
    "# Quantidade de jogos publicados por ano\n",
    "x_anos = df['Ano'].drop_duplicates().sort_values(ascending=True).values\n",
    "y_contagem = df['Ano'].value_counts().sort_index().values\n",
    "\n",
    "fig = px.line(x=x_anos, y=y_contagem,\n",
    "            labels={\n",
    "                \"y\": \"Quantidade de Jogos\",\n",
    "                \"x\": \"Período\"},\n",
    "            title='Jogos publicados ao longo dos anos<br><sup>1980-2020</sup>',\n",
    "            line_shape='spline',\n",
    "            markers=True)\n",
    "fig.update_layout(xaxis_range=[1980,2020])\n",
    "fig.show()"
   ]
  },
  {
   "cell_type": "code",
   "execution_count": null,
   "metadata": {},
   "outputs": [],
   "source": [
    "# Mesma representação anterior em outro gráfico\n",
    "fig = px.bar(x=x_anos, y=y_contagem,\n",
    "            labels={\n",
    "                \"y\": \"Quantidade de Jogos\",\n",
    "                \"x\": \"Período\"},\n",
    "            title='Jogos publicados ao longo dos anos<br><sup>1980-2020</sup>')\n",
    "fig.update_layout(xaxis_range=[1980,2020])\n",
    "fig.show()"
   ]
  },
  {
   "cell_type": "markdown",
   "metadata": {},
   "source": [
    "#### Distribuição de Dados pelo Atributo 'Name'"
   ]
  },
  {
   "cell_type": "code",
   "execution_count": null,
   "metadata": {},
   "outputs": [],
   "source": [
    "# Valores Únicos\n",
    "df['Nome'].drop_duplicates().sort_values(ascending=True).values"
   ]
  },
  {
   "cell_type": "code",
   "execution_count": null,
   "metadata": {},
   "outputs": [],
   "source": [
    "# Quantidade de valores únicos no campo 'nome'\n",
    "df['Nome'].drop_duplicates().count()"
   ]
  },
  {
   "cell_type": "markdown",
   "metadata": {},
   "source": [
    "<div class=\"alert alert-block alert-info\"> <b>NOTE:</b> Foram registrados <b>11.325</b> jogos distintos na base de dados. Uma possível análise seria verificar nomes similares e agrupar para analisar as franquias de jogos.</div>"
   ]
  },
  {
   "cell_type": "markdown",
   "metadata": {},
   "source": [
    "#### Distribuição de Dados pelo Atributo `Plataforma`"
   ]
  },
  {
   "cell_type": "code",
   "execution_count": null,
   "metadata": {},
   "outputs": [],
   "source": [
    "# Plataformas\n",
    "df['Plataforma'].drop_duplicates().sort_values(ascending=True).values"
   ]
  },
  {
   "cell_type": "code",
   "execution_count": null,
   "metadata": {},
   "outputs": [],
   "source": [
    "# Quantidade de jogos por plataforma\n",
    "# Retorna um array com a quantidade de registros de jogos por plataforma\n",
    "df['Plataforma'].value_counts().sort_index().values"
   ]
  },
  {
   "cell_type": "code",
   "execution_count": null,
   "metadata": {},
   "outputs": [],
   "source": [
    "# Quantidade de jogos por plataforma\n",
    "df.groupby('Plataforma').size()"
   ]
  },
  {
   "cell_type": "code",
   "execution_count": null,
   "metadata": {},
   "outputs": [],
   "source": [
    "# Exibindo os dados em forma de gráfico\n",
    "x = df.groupby(['Plataforma'])['Plataforma'].count().index\n",
    "y = df.groupby(['Plataforma'])['Plataforma'].count()\n",
    "\n",
    "fig = px.scatter(x=x, y=y,\n",
    "                 marginal_y='violin',\n",
    "                 labels={\n",
    "                     \"y\": \"Volume de Jogos por Plataforma\",\n",
    "                     \"x\": \"Plataformas\"\n",
    "                 },\n",
    "                 title='Quantidade de Jogos por Plataforma',\n",
    "                 size=y)\n",
    "fig.update_layout(yaxis_range=[0,2500])\n",
    "fig.show()"
   ]
  },
  {
   "cell_type": "code",
   "execution_count": null,
   "metadata": {},
   "outputs": [],
   "source": [
    "df['Plataforma'].value_counts()['PS2']"
   ]
  },
  {
   "cell_type": "code",
   "execution_count": null,
   "metadata": {},
   "outputs": [],
   "source": [
    "# Exibindo os dados em forma de gráfico\n",
    "x = df.groupby(['Plataforma'])['Plataforma'].count().sort_values(ascending=False).index\n",
    "y = df.groupby(['Plataforma'])['Plataforma'].count().sort_values(ascending=False)\n",
    "\n",
    "fig = px.bar(x=x, y=y,\n",
    "                 labels={\n",
    "                     \"y\": \"Volume de Jogos\",\n",
    "                     \"x\": \"Plataformas\"\n",
    "                 },\n",
    "                 title='Quantidade de Jogos por Plataforma')\n",
    "fig.show()"
   ]
  },
  {
   "cell_type": "markdown",
   "metadata": {},
   "source": [
    "#### Distribuição de Dados pelo Atributo 'Genre'"
   ]
  },
  {
   "cell_type": "code",
   "execution_count": null,
   "metadata": {},
   "outputs": [],
   "source": [
    "# Contagem de Gênero de jogos vendidos\n",
    "sorted(df['Gênero'].unique())"
   ]
  },
  {
   "cell_type": "code",
   "execution_count": null,
   "metadata": {},
   "outputs": [],
   "source": [
    "df['Gênero'].value_counts().sort_index()"
   ]
  },
  {
   "cell_type": "code",
   "execution_count": null,
   "metadata": {},
   "outputs": [],
   "source": [
    "# Distribuição de vendas ao longo dos anos\n",
    "x = df.groupby(['Gênero'])['Gênero'].count().sort_values(ascending=False).index # Nomes (names)\n",
    "y = df.groupby(['Gênero'])['Gênero'].count().sort_values(ascending=False) # Quantidade (values)\n",
    "\n",
    "fig = px.pie(values=y, names=x,\n",
    "                 title='Lançamento de Jogos por Gênero')\n",
    "fig.show()"
   ]
  },
  {
   "cell_type": "markdown",
   "metadata": {},
   "source": [
    "#### Distribuição de Dados pelo Atributo 'Publisher'"
   ]
  },
  {
   "cell_type": "code",
   "execution_count": null,
   "metadata": {},
   "outputs": [],
   "source": [
    "# Contagem por Desenvolvedoras\n",
    "sorted(df['Publicação'].unique())"
   ]
  },
  {
   "cell_type": "code",
   "execution_count": null,
   "metadata": {},
   "outputs": [],
   "source": [
    "# Contagem por Desenvolvedoras\n",
    "df['Publicação'].value_counts().sort_index()"
   ]
  },
  {
   "cell_type": "markdown",
   "metadata": {},
   "source": [
    "Para melhorar a visualização, mostrar apenas as desenvolvedoras com maior volume de jogos vendidos."
   ]
  },
  {
   "cell_type": "code",
   "execution_count": null,
   "metadata": {},
   "outputs": [],
   "source": [
    "x=df['Publicação'].value_counts().sort_index()\n",
    "y=sorted(df['Publicação'].unique())\n",
    "\n",
    "fig = px.bar(x=x, y=y,\n",
    "                orientation='h',\n",
    "                labels={\n",
    "                    \"x\": \"Quantidade de Vendas\",\n",
    "                    \"y\": \"Plataforma de Publicação\"\n",
    "                },\n",
    "                title='Volume de Jogos por Plataforma de Publicação')\n",
    "fig.show()"
   ]
  },
  {
   "cell_type": "markdown",
   "metadata": {},
   "source": [
    "### Verificação das vendas 'NA_Sales', 'EU_Sales', 'JP_Sales', 'Other_Sales' e 'Global_Sales'"
   ]
  },
  {
   "cell_type": "markdown",
   "metadata": {},
   "source": [
    "Sugestões de análises:\n",
    "* Taxa de Variação de Preço por Plataforma\n",
    "* Média de Preços por jogos ou plataformas"
   ]
  },
  {
   "cell_type": "code",
   "execution_count": null,
   "metadata": {},
   "outputs": [],
   "source": [
    "df[['NA_Sales', 'EU_Sales', 'JP_Sales', 'Other_Sales', 'Global_Sales']]"
   ]
  },
  {
   "cell_type": "code",
   "execution_count": null,
   "metadata": {},
   "outputs": [],
   "source": [
    "# Média das Colunas\n",
    "df[['NA_Sales', 'EU_Sales', 'JP_Sales', 'Other_Sales', 'Global_Sales']].mean()"
   ]
  },
  {
   "cell_type": "code",
   "execution_count": null,
   "metadata": {},
   "outputs": [],
   "source": [
    "# Média das Linhas\n",
    "df[['NA_Sales', 'EU_Sales', 'JP_Sales', 'Other_Sales', 'Global_Sales']].mean(axis=1)"
   ]
  },
  {
   "cell_type": "markdown",
   "metadata": {},
   "source": [
    "# Exporta a Base de Dados"
   ]
  },
  {
   "cell_type": "code",
   "execution_count": null,
   "metadata": {},
   "outputs": [],
   "source": [
    "# Exporta o Banco de Dados\n",
    "df.to_csv(r'vgsales-bd-tratado.csv', index=False, encoding='utf-8')"
   ]
  }
 ],
 "metadata": {
  "kernelspec": {
   "display_name": "base",
   "language": "python",
   "name": "python3"
  },
  "language_info": {
   "codemirror_mode": {
    "name": "ipython",
    "version": 3
   },
   "file_extension": ".py",
   "mimetype": "text/x-python",
   "name": "python",
   "nbconvert_exporter": "python",
   "pygments_lexer": "ipython3",
   "version": "3.11.5"
  }
 },
 "nbformat": 4,
 "nbformat_minor": 2
}
