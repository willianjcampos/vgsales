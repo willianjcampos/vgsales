{
 "cells": [
  {
   "cell_type": "markdown",
   "metadata": {},
   "source": [
    "# Carregamento da base de dados"
   ]
  },
  {
   "cell_type": "code",
   "execution_count": null,
   "metadata": {},
   "outputs": [],
   "source": [
    "import pandas as pd"
   ]
  },
  {
   "cell_type": "code",
   "execution_count": null,
   "metadata": {},
   "outputs": [],
   "source": [
    "# Exibir dados\n",
    "import plotly.express as px\n",
    "import seaborn as sns\n",
    "from bokeh.plotting import figure, show\n",
    "from bokeh.io import output_notebook\n",
    "\n",
    "output_notebook()"
   ]
  },
  {
   "cell_type": "code",
   "execution_count": null,
   "metadata": {},
   "outputs": [],
   "source": [
    "import warnings\n",
    "warnings.simplefilter(action='ignore', category=FutureWarning)"
   ]
  },
  {
   "cell_type": "code",
   "execution_count": null,
   "metadata": {},
   "outputs": [],
   "source": [
    "df = pd.read_csv(r'base_dados.csv', encoding='utf-8')\n",
    "df.head()"
   ]
  },
  {
   "cell_type": "code",
   "execution_count": null,
   "metadata": {},
   "outputs": [],
   "source": [
    "df.info()"
   ]
  },
  {
   "cell_type": "code",
   "execution_count": null,
   "metadata": {},
   "outputs": [],
   "source": [
    "df.shape"
   ]
  },
  {
   "cell_type": "code",
   "execution_count": null,
   "metadata": {},
   "outputs": [],
   "source": [
    "# Verifica o ID e os maiores valores encontrados em cada coluna\n",
    "#pd.concat([df.idxmax(), df.max()], axis=1)"
   ]
  },
  {
   "cell_type": "markdown",
   "metadata": {},
   "source": [
    "# Tratamento do atributo `Data`"
   ]
  },
  {
   "cell_type": "code",
   "execution_count": null,
   "metadata": {},
   "outputs": [],
   "source": [
    "# Converte o atributo 'Data' para o tipo 'pandas.datetime'\n",
    "df['Data'] = pd.to_datetime(df['Data'])\n",
    "df.info()"
   ]
  },
  {
   "cell_type": "markdown",
   "metadata": {},
   "source": [
    "# Criação dos atributos `Mês` e `Ano`"
   ]
  },
  {
   "cell_type": "code",
   "execution_count": null,
   "metadata": {},
   "outputs": [],
   "source": [
    "# Criar colunas especificas para o Mês e o Ano do registro\n",
    "df.insert(1, 'Mes', df['Data'].dt.month)\n",
    "df.insert(2, 'Ano', df['Data'].dt.year)\n",
    "df.head()"
   ]
  },
  {
   "cell_type": "code",
   "execution_count": null,
   "metadata": {},
   "outputs": [],
   "source": [
    "df.info()"
   ]
  },
  {
   "cell_type": "markdown",
   "metadata": {},
   "source": [
    "# Análise de Dados"
   ]
  },
  {
   "cell_type": "markdown",
   "metadata": {},
   "source": [
    "## Analítica"
   ]
  },
  {
   "cell_type": "markdown",
   "metadata": {},
   "source": [
    "### Vendas ao Longo do Tempo\n",
    "Permite acompanhar a evolução das vendas ao longo do tempo, identificando tendências e padrões.\n",
    "\n",
    "* **Relação**: Data e Hora x Valor Unitário\n",
    "* **Gráfico**: Linhas ou Área"
   ]
  },
  {
   "cell_type": "code",
   "execution_count": null,
   "metadata": {},
   "outputs": [],
   "source": [
    "compra_venda_tempo = df.groupby(['Ano', 'Tipo'], as_index=False)['Valor Unitário'].mean().round(2)\n",
    "display(compra_venda_tempo)"
   ]
  },
  {
   "cell_type": "code",
   "execution_count": null,
   "metadata": {},
   "outputs": [],
   "source": [
    "sns.lineplot(data=compra_venda_tempo, x='Ano', y='Valor Unitário', hue='Tipo', style='Tipo', markers=True);"
   ]
  },
  {
   "cell_type": "code",
   "execution_count": null,
   "metadata": {},
   "outputs": [],
   "source": [
    "fig = px.line(compra_venda_tempo, x=\"Ano\", y=\"Valor Unitário\", color='Tipo', title='Variação Média de Preços ao longo dos Anos', markers=True)\n",
    "fig.update_traces(textposition=\"top right\")\n",
    "fig.show()"
   ]
  },
  {
   "cell_type": "code",
   "execution_count": null,
   "metadata": {},
   "outputs": [],
   "source": [
    "# Utilizando o Bokeh\n",
    "plot = figure(width=900, height=600, title='Variação Média de Preços ao lonog dos Anos', toolbar_location=None)\n",
    "line1 = compra_venda_tempo[compra_venda_tempo['Tipo'] == 'Compra']\n",
    "line2 = compra_venda_tempo[compra_venda_tempo['Tipo'] == 'Venda']\n",
    "plot.line(x=line1['Ano'], y=line1['Valor Unitário'], line_width=2, legend_label='Compra', color='green')\n",
    "plot.line(x=line2['Ano'], y=line2['Valor Unitário'], line_width=2, legend_label='Venda', color='blue')\n",
    "show(plot)"
   ]
  },
  {
   "cell_type": "markdown",
   "metadata": {},
   "source": [
    "### Desempenho dos Produtos\n",
    "Mostra quais produtos têm maior saida, auxiliando no planejamnto de estoque e promoções.\n",
    "* **Relação**: Produto x Quantidade Vendida\n",
    "* **Gráfico**: Barras"
   ]
  },
  {
   "cell_type": "code",
   "execution_count": null,
   "metadata": {},
   "outputs": [],
   "source": [
    "desempenho_produto = df[df['Tipo'] == 'Venda'].groupby(['Produto'], as_index=False)['Quantidade'].sum().sort_values(by='Quantidade', ignore_index=True, ascending=False)\n",
    "desempenho_produto_minimo = desempenho_produto['Quantidade'].min()*0.95\n",
    "desempenho_produto_maximo = desempenho_produto['Quantidade'].max()*1.01\n",
    "\n",
    "display(desempenho_produto)"
   ]
  },
  {
   "cell_type": "code",
   "execution_count": null,
   "metadata": {},
   "outputs": [],
   "source": [
    "# Seaborn 1\n",
    "gfg = sns.barplot(desempenho_produto, x=\"Produto\", y=\"Quantidade\")\n",
    "gfg.set_ylim(desempenho_produto_minimo, desempenho_produto_maximo)\n",
    "gfg.set_xticklabels(gfg.get_xticklabels(), rotation=90);"
   ]
  },
  {
   "cell_type": "code",
   "execution_count": null,
   "metadata": {},
   "outputs": [],
   "source": [
    "# Seaborn 2\n",
    "gfg = sns.barplot(desempenho_produto, x=\"Quantidade\", y=\"Produto\")\n",
    "gfg.set_xlim(desempenho_produto_minimo, desempenho_produto_maximo)"
   ]
  },
  {
   "cell_type": "code",
   "execution_count": null,
   "metadata": {},
   "outputs": [],
   "source": [
    "# Plotly Express 1\n",
    "fig = px.bar(desempenho_produto, x=\"Produto\", y=\"Quantidade\", title='Desempenho dos Produtos')\n",
    "fig.update_layout(yaxis_range=[desempenho_produto_minimo, desempenho_produto_maximo])\n",
    "fig.show()"
   ]
  },
  {
   "cell_type": "code",
   "execution_count": null,
   "metadata": {},
   "outputs": [],
   "source": [
    "# Plotly Express 2\n",
    "fig = px.bar(desempenho_produto, x=\"Quantidade\", y=\"Produto\", title='Desempenho dos Produtos')\n",
    "fig.update_layout(xaxis_range=[desempenho_produto_minimo, desempenho_produto_maximo], height=700)\n",
    "fig.show()"
   ]
  },
  {
   "cell_type": "code",
   "execution_count": null,
   "metadata": {},
   "outputs": [],
   "source": [
    "# Bokeh 1\n",
    "bar_produtos = desempenho_produto['Produto'].values.tolist()\n",
    "bar_quantidade = desempenho_produto['Quantidade'].values.tolist()\n",
    "\n",
    "p = figure(x_range=bar_produtos, title='Desempenho dos Produtos', width=900, height=500)\n",
    "p.vbar(x=bar_produtos, top=bar_quantidade, width=0.9)\n",
    "p.xaxis.major_label_orientation = \"vertical\"\n",
    "p.xaxis.subgroup_label_orientation = \"normal\"\n",
    "p.y_range.start = desempenho_produto_minimo\n",
    "p.y_range.end = desempenho_produto_maximo\n",
    "show(p)"
   ]
  },
  {
   "cell_type": "code",
   "execution_count": null,
   "metadata": {},
   "outputs": [],
   "source": [
    "# Bokeh 2\n",
    "bar_produtos = desempenho_produto['Produto'].values.tolist()\n",
    "bar_quantidade = desempenho_produto['Quantidade'].values.tolist()\n",
    "\n",
    "p = figure(y_range=bar_produtos, title='Desempenho dos Produtos', width=600, height=600)\n",
    "p.hbar(y=bar_produtos, right=bar_quantidade, height=0.9)\n",
    "p.x_range.start = desempenho_produto_minimo\n",
    "p.x_range.end = desempenho_produto_maximo\n",
    "show(p)"
   ]
  },
  {
   "cell_type": "markdown",
   "metadata": {},
   "source": [
    "### Lucratividade por Categoria\n",
    "Avalia a margem de lucro por categoria, informando sobre a rentabilidade dos seguimentos.\n",
    "* **Relação**: Categoria do Produto x Lucro (Quantidade do Produto x (Valor Unitário - Valor do Custo))\n",
    "* **Gráfico**: Barras Empilhadas"
   ]
  },
  {
   "cell_type": "code",
   "execution_count": null,
   "metadata": {},
   "outputs": [],
   "source": [
    "categoria_quantidade_produto_total = df.groupby(['Categoria'], as_index=False)['Quantidade'].sum()\n",
    "categoria_quantidade_produto_total.sort_values(by='Quantidade', ascending=False, inplace=True)\n",
    "categoria_quantidade_produto_total_max = int(categoria_quantidade_produto_total['Quantidade'].max() * 1.01)\n",
    "categoria_quantidade_produto_total_min = int(categoria_quantidade_produto_total['Quantidade'].min()*0.95)\n",
    "display(categoria_quantidade_produto_total)"
   ]
  },
  {
   "cell_type": "code",
   "execution_count": null,
   "metadata": {},
   "outputs": [],
   "source": [
    "# Seaborn 1\n",
    "gfg = sns.barplot(x=categoria_quantidade_produto_total['Categoria'], y=categoria_quantidade_produto_total['Quantidade'])\n",
    "gfg.set_ylim(categoria_quantidade_produto_total_min, categoria_quantidade_produto_total_max)\n",
    "gfg.set_xticklabels(gfg.get_xticklabels(), rotation=90);"
   ]
  },
  {
   "cell_type": "code",
   "execution_count": null,
   "metadata": {},
   "outputs": [],
   "source": [
    "# Seaborn 2\n",
    "gfg = sns.barplot(x=categoria_quantidade_produto_total['Quantidade'], y=categoria_quantidade_produto_total['Categoria'])\n",
    "gfg.set_xlim(categoria_quantidade_produto_total_min, categoria_quantidade_produto_total_max);"
   ]
  },
  {
   "cell_type": "code",
   "execution_count": null,
   "metadata": {},
   "outputs": [],
   "source": [
    "# Plotly Express 1\n",
    "fig = px.bar(categoria_quantidade_produto_total, x=\"Categoria\", y=\"Quantidade\", title='Vendas por Categoria')\n",
    "fig.update_layout(yaxis_range=[categoria_quantidade_produto_total_min, categoria_quantidade_produto_total_max])\n",
    "fig.show()"
   ]
  },
  {
   "cell_type": "code",
   "execution_count": null,
   "metadata": {},
   "outputs": [],
   "source": [
    "# Plotly Express 2\n",
    "fig = px.bar(categoria_quantidade_produto_total, x=\"Quantidade\", y=\"Categoria\", title='Vendas por Categoria')\n",
    "fig.update_layout(xaxis_range=[categoria_quantidade_produto_total_min, categoria_quantidade_produto_total_max])\n",
    "fig.show()"
   ]
  },
  {
   "cell_type": "markdown",
   "metadata": {},
   "source": [
    "////////////////////////////////////////////"
   ]
  },
  {
   "cell_type": "code",
   "execution_count": null,
   "metadata": {},
   "outputs": [],
   "source": [
    "categoria_valor_unitario_total = df.groupby(['Categoria'], as_index=False)['Valor Unitário'].sum()\n",
    "categoria_valor_unitario_total.sort_values(by='Valor Unitário', ascending=False, inplace=True)\n",
    "categoria_valor_unitario_total_max = int(categoria_valor_unitario_total['Valor Unitário'].max() * 1.01)\n",
    "categoria_valor_unitario_total_min = int(categoria_valor_unitario_total['Valor Unitário'].min()*0.95)\n",
    "display(categoria_valor_unitario_total)"
   ]
  },
  {
   "cell_type": "code",
   "execution_count": null,
   "metadata": {},
   "outputs": [],
   "source": [
    "# Seaborn 1\n",
    "gfg = sns.barplot(x=categoria_valor_unitario_total['Categoria'], y=categoria_valor_unitario_total['Valor Unitário'])\n",
    "gfg.set_xticklabels(gfg.get_xticklabels(), rotation=90);"
   ]
  },
  {
   "cell_type": "code",
   "execution_count": null,
   "metadata": {},
   "outputs": [],
   "source": [
    "# Seaborn 2\n",
    "gfg = sns.barplot(x=categoria_valor_unitario_total['Valor Unitário'], y=categoria_valor_unitario_total['Categoria']);"
   ]
  },
  {
   "cell_type": "code",
   "execution_count": null,
   "metadata": {},
   "outputs": [],
   "source": [
    "# Plotly Express 1\n",
    "fig = px.bar(categoria_valor_unitario_total, x=\"Categoria\", y=\"Valor Unitário\", title='Vendas por Categoria', color='Categoria')\n",
    "fig.show()"
   ]
  },
  {
   "cell_type": "code",
   "execution_count": null,
   "metadata": {},
   "outputs": [],
   "source": [
    "# Plotly Express 2\n",
    "fig = px.bar(categoria_valor_unitario_total, x=\"Valor Unitário\", y=\"Categoria\", title='Vendas por Categoria', color='Categoria')\n",
    "fig.show()"
   ]
  },
  {
   "cell_type": "markdown",
   "metadata": {},
   "source": [
    "////////////////////////////////////////////"
   ]
  },
  {
   "cell_type": "code",
   "execution_count": null,
   "metadata": {},
   "outputs": [],
   "source": [
    "categoria_custo_total = df.groupby(['Categoria'], as_index=False)['Custo'].sum()\n",
    "categoria_custo_total.sort_values(by='Custo', ascending=False, inplace=True)\n",
    "categoria_custo_total_max = int(categoria_custo_total['Custo'].max() * 1.01)\n",
    "categoria_custo_total_min = int(categoria_custo_total['Custo'].min() * 0.95)\n",
    "display(categoria_custo_total)"
   ]
  },
  {
   "cell_type": "code",
   "execution_count": null,
   "metadata": {},
   "outputs": [],
   "source": [
    "# Seaborn 1\n",
    "gfg = sns.barplot(x=categoria_custo_total['Categoria'], y=categoria_custo_total['Custo'])\n",
    "gfg.set_xticklabels(gfg.get_xticklabels(), rotation=90);"
   ]
  },
  {
   "cell_type": "code",
   "execution_count": null,
   "metadata": {},
   "outputs": [],
   "source": [
    "# Seaborn 1\n",
    "gfg = sns.barplot(x=categoria_custo_total['Custo'], y=categoria_custo_total['Categoria']);"
   ]
  },
  {
   "cell_type": "code",
   "execution_count": null,
   "metadata": {},
   "outputs": [],
   "source": [
    "# Plotly Express 1\n",
    "fig = px.bar(categoria_custo_total, x=\"Categoria\", y=\"Custo\", title='Vendas por Categoria', color='Categoria')\n",
    "fig.show()"
   ]
  },
  {
   "cell_type": "code",
   "execution_count": null,
   "metadata": {},
   "outputs": [],
   "source": [
    "# Plotly Express 2\n",
    "fig = px.bar(categoria_custo_total, x=\"Custo\", y=\"Categoria\", title='Vendas por Categoria', color='Categoria')\n",
    "fig.show()"
   ]
  },
  {
   "cell_type": "markdown",
   "metadata": {},
   "source": [
    "////////////////////////////////////////////\n",
    "\n",
    "Problemas básicos de como estruturar esta seleção para fazer um bar-charts"
   ]
  },
  {
   "cell_type": "code",
   "execution_count": null,
   "metadata": {},
   "outputs": [],
   "source": [
    "categoria_quantidade_custo_unitario_total = df.groupby(['Categoria'], as_index=False)[['Quantidade', 'Custo', 'Valor Unitário']].sum()\n",
    "categoria_quantidade_custo_unitario_total.sort_values(by='Custo', ascending=False, inplace=True)\n",
    "categoria_quantidade_custo_unitario_total_max = int(categoria_quantidade_custo_unitario_total['Custo'].max() * 1.01)\n",
    "categoria_quantidade_custo_unitario_total_min = int(categoria_quantidade_custo_unitario_total['Custo'].min() * 0.95)\n",
    "display(categoria_quantidade_custo_unitario_total)"
   ]
  },
  {
   "cell_type": "code",
   "execution_count": null,
   "metadata": {},
   "outputs": [],
   "source": [
    "# Seaborn 1\n",
    "\n",
    "# Seaborn 2"
   ]
  },
  {
   "cell_type": "code",
   "execution_count": null,
   "metadata": {},
   "outputs": [],
   "source": [
    "# Plotly Express 1\n",
    "\n",
    "# Plotly Express 2"
   ]
  },
  {
   "cell_type": "markdown",
   "metadata": {},
   "source": [
    "////////////////////////////////////////////"
   ]
  },
  {
   "cell_type": "code",
   "execution_count": null,
   "metadata": {},
   "outputs": [],
   "source": [
    "lucratividade_categoria = pd.DataFrame()\n",
    "lucratividade_categoria['Categoria'] = df_locratividade_categoria['Categoria']\n",
    "lucratividade_categoria['Lucro'] = df_locratividade_categoria['Valor Unitário'] - df_locratividade_categoria['Custo']\n",
    "\n",
    "lucratividade_categoria.sort_values(by='Lucro', ascending=False, inplace=True)\n",
    "\n",
    "display(lucratividade_categoria)"
   ]
  },
  {
   "cell_type": "code",
   "execution_count": null,
   "metadata": {},
   "outputs": [],
   "source": [
    "# Plotly Express 1\n",
    "fig = px.bar(lucratividade_categoria, x=\"Categoria\", y=\"Lucro\", title='Lucro por Categoria', color='Categoria')\n",
    "fig.show()"
   ]
  },
  {
   "cell_type": "markdown",
   "metadata": {},
   "source": [
    "### Fluxo de Entrada e Saída\n",
    "Monitora o fluxo de produtos, ajudando a entender o movimento do inventário.\n",
    "* **Relação**: Data x Entrada ou Saida de Produto (Quantidade) (Compra x Venda)\n",
    "* **Gráfico**: Fluxo de Caixa"
   ]
  },
  {
   "cell_type": "markdown",
   "metadata": {},
   "source": [
    "### Canais de Venda\n",
    "Compara a performance de vendas online versus loja física, orientando estratégias de marketing e venda.\n",
    "* **Relação**: Meio de Venda (Canal de Venda) x Valor Total de Vendas.\n",
    "* **Pizza** ou Donut."
   ]
  },
  {
   "cell_type": "code",
   "execution_count": null,
   "metadata": {},
   "outputs": [],
   "source": [
    "canal_venda_valor_unitario = df.groupby('Canal de Venda')['Valor Unitário'].sum()\n",
    "display(canal_venda_valor_unitario)"
   ]
  },
  {
   "cell_type": "code",
   "execution_count": null,
   "metadata": {},
   "outputs": [],
   "source": [
    "fig = px.pie(canal_venda_valor_unitario, values=canal_venda_valor_unitario.values, names=canal_venda_valor_unitario.index, title='Relação entre Meio de Cenda e Total de Vendas')\n",
    "fig.update_traces(textposition='inside', textinfo='percent+label', textfont_size=20)\n",
    "fig.update_layout(margin=dict(t=70, b=20, l=0, r=0), width=600)\n",
    "fig.show();"
   ]
  },
  {
   "cell_type": "markdown",
   "metadata": {},
   "source": [
    "### Preferência de Pagamento\n",
    "Identifica as formas de pagamento preferidas pelos clientes, podendo influenciar as opções oferecidas.\n",
    "* **Relação**: Forma de Pagamento (Método de Pagamento) x Valor Total\n",
    "* **Gráfico**: Barras Horizontais"
   ]
  },
  {
   "cell_type": "code",
   "execution_count": null,
   "metadata": {},
   "outputs": [],
   "source": [
    "metodo_pagamento_valor_total = df.groupby('Método de Pagamento')['Valor Unitário'].sum()\n",
    "display(metodo_pagamento_valor_total)"
   ]
  },
  {
   "cell_type": "code",
   "execution_count": null,
   "metadata": {},
   "outputs": [],
   "source": [
    "# Plotly Express 1\n",
    "fig = px.bar(metodo_pagamento_valor_total, x=metodo_pagamento_valor_total.index, y=metodo_pagamento_valor_total.values, title='Preferência de Pagamento', color=metodo_pagamento_valor_total.index)\n",
    "fig.show()"
   ]
  },
  {
   "cell_type": "code",
   "execution_count": null,
   "metadata": {},
   "outputs": [],
   "source": [
    "# Plotly Express 2\n",
    "fig = px.bar(metodo_pagamento_valor_total, x=metodo_pagamento_valor_total.values, y=metodo_pagamento_valor_total.index, title='Preferência de Pagamento', color=metodo_pagamento_valor_total.index)\n",
    "fig.show()"
   ]
  },
  {
   "cell_type": "code",
   "execution_count": null,
   "metadata": {},
   "outputs": [],
   "source": [
    "fig = px.pie(metodo_pagamento_valor_total, values=metodo_pagamento_valor_total.values, names=metodo_pagamento_valor_total.index, title='Preferência de Pagamento')\n",
    "fig.update_traces(textposition='inside', textinfo='percent+label', textfont_size=20)\n",
    "fig.update_layout(margin=dict(t=70, b=20, l=0, r=0), width=600)\n",
    "fig.show();"
   ]
  },
  {
   "cell_type": "markdown",
   "metadata": {},
   "source": [
    "### Análise Geográfica\n",
    "Destaca as áreas geográficas com maior volume de vendas, direcionando esforços de marketing localizados.\n",
    "* **Relação**: Cidade e Estado x Valor Total de Venda\n",
    "* **Gráfico**: Mapa de Calor"
   ]
  },
  {
   "cell_type": "markdown",
   "metadata": {},
   "source": [
    "# Para um outro dia..."
   ]
  },
  {
   "cell_type": "markdown",
   "metadata": {},
   "source": [
    "### Relacionamento de Dados"
   ]
  },
  {
   "cell_type": "code",
   "execution_count": null,
   "metadata": {},
   "outputs": [],
   "source": [
    "# Relacionar Data de Transição com o volume de compra e venda para identificar padrões ao longo do tempo\n",
    "vol_compra_venda = df.groupby(['Ano', 'Mes','Tipo'], as_index=False)['Quantidade'].sum()\n",
    "display(vol_compra_venda)"
   ]
  },
  {
   "cell_type": "markdown",
   "metadata": {},
   "source": [
    "### Análise de Produtos"
   ]
  },
  {
   "cell_type": "code",
   "execution_count": null,
   "metadata": {},
   "outputs": [],
   "source": [
    "# Correlacionar o Produto com a quantidade vendida (produtos mais populares)\n",
    "vol_produto_vendido = df[(df['Tipo'] == 'Venda')].groupby(['Ano', 'Produto'], as_index=False)['Quantidade'].sum()\n",
    "display(vol_produto_vendido)"
   ]
  },
  {
   "cell_type": "code",
   "execution_count": null,
   "metadata": {},
   "outputs": [],
   "source": [
    "display(vol_produto_vendido)"
   ]
  },
  {
   "cell_type": "code",
   "execution_count": null,
   "metadata": {},
   "outputs": [],
   "source": [
    "# Os 3 (três) produtos mais vendidos entre 2010 e 2024\n",
    "vol_produto_vendido.iloc[vol_produto_vendido['Quantidade'].argsort()[-3:]]"
   ]
  },
  {
   "cell_type": "code",
   "execution_count": null,
   "metadata": {},
   "outputs": [],
   "source": [
    "vol_produto_vendido.groupby(['Ano'], as_index=False)['Quantidade'].sum()"
   ]
  },
  {
   "cell_type": "markdown",
   "metadata": {},
   "source": [
    "### Análise de Preço"
   ]
  },
  {
   "cell_type": "code",
   "execution_count": null,
   "metadata": {},
   "outputs": [],
   "source": [
    "# Associar valor unitário do produto com o tipo de transação para entender a dinâmica de preços"
   ]
  },
  {
   "cell_type": "markdown",
   "metadata": {},
   "source": [
    "## Tática"
   ]
  },
  {
   "cell_type": "markdown",
   "metadata": {},
   "source": [
    "## Estratégica"
   ]
  },
  {
   "cell_type": "markdown",
   "metadata": {},
   "source": [
    "# Exportação da Base de Dados"
   ]
  },
  {
   "cell_type": "code",
   "execution_count": null,
   "metadata": {},
   "outputs": [],
   "source": [
    "display(df)"
   ]
  },
  {
   "cell_type": "code",
   "execution_count": null,
   "metadata": {},
   "outputs": [],
   "source": [
    "df.to_csv(r'base_dados_tratada.csv', index=False, encoding='utf-8')"
   ]
  }
 ],
 "metadata": {
  "kernelspec": {
   "display_name": "base",
   "language": "python",
   "name": "python3"
  },
  "language_info": {
   "codemirror_mode": {
    "name": "ipython",
    "version": 3
   },
   "file_extension": ".py",
   "mimetype": "text/x-python",
   "name": "python",
   "nbconvert_exporter": "python",
   "pygments_lexer": "ipython3",
   "version": "3.11.7"
  }
 },
 "nbformat": 4,
 "nbformat_minor": 2
}
